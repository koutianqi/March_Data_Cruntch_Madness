{
 "cells": [
  {
   "cell_type": "markdown",
   "metadata": {},
   "source": [
    "# Joing Data"
   ]
  },
  {
   "cell_type": "code",
   "execution_count": 5,
   "metadata": {
    "collapsed": true
   },
   "outputs": [],
   "source": [
    "import pandas as pd, numpy as np"
   ]
  },
  {
   "cell_type": "code",
   "execution_count": 6,
   "metadata": {
    "collapsed": true
   },
   "outputs": [],
   "source": [
    "def z_norm(x):\n",
    "    \n",
    "    res = (x - x.mean()) / x.std()\n",
    "    \n",
    "    return res"
   ]
  },
  {
   "cell_type": "code",
   "execution_count": 7,
   "metadata": {
    "collapsed": true
   },
   "outputs": [],
   "source": [
    "df_inc = pd.read_csv(\"df_norm_trans.csv\", index_col = 0)"
   ]
  },
  {
   "cell_type": "code",
   "execution_count": 9,
   "metadata": {},
   "outputs": [
    {
     "data": {
      "text/html": [
       "<div>\n",
       "<style>\n",
       "    .dataframe thead tr:only-child th {\n",
       "        text-align: right;\n",
       "    }\n",
       "\n",
       "    .dataframe thead th {\n",
       "        text-align: left;\n",
       "    }\n",
       "\n",
       "    .dataframe tbody tr th {\n",
       "        vertical-align: top;\n",
       "    }\n",
       "</style>\n",
       "<table border=\"1\" class=\"dataframe\">\n",
       "  <thead>\n",
       "    <tr style=\"text-align: right;\">\n",
       "      <th></th>\n",
       "      <th>Round</th>\n",
       "      <th>team1_32</th>\n",
       "      <th>team1_16</th>\n",
       "      <th>team1_8</th>\n",
       "      <th>team1_4</th>\n",
       "      <th>team2_32</th>\n",
       "      <th>team2_16</th>\n",
       "      <th>team2_8</th>\n",
       "      <th>team2_4</th>\n",
       "    </tr>\n",
       "  </thead>\n",
       "  <tbody>\n",
       "    <tr>\n",
       "      <th>0</th>\n",
       "      <td>1</td>\n",
       "      <td>-0.355152</td>\n",
       "      <td>-0.723093</td>\n",
       "      <td>-0.070572</td>\n",
       "      <td>-0.787510</td>\n",
       "      <td>-1.922469</td>\n",
       "      <td>-1.294608</td>\n",
       "      <td>-0.906659</td>\n",
       "      <td>-0.797442</td>\n",
       "    </tr>\n",
       "    <tr>\n",
       "      <th>1</th>\n",
       "      <td>1</td>\n",
       "      <td>0.417991</td>\n",
       "      <td>1.275113</td>\n",
       "      <td>0.916813</td>\n",
       "      <td>-0.787510</td>\n",
       "      <td>-1.922469</td>\n",
       "      <td>-1.294608</td>\n",
       "      <td>-0.906659</td>\n",
       "      <td>-0.797442</td>\n",
       "    </tr>\n",
       "    <tr>\n",
       "      <th>2</th>\n",
       "      <td>1</td>\n",
       "      <td>0.647071</td>\n",
       "      <td>0.442527</td>\n",
       "      <td>-0.358559</td>\n",
       "      <td>0.165006</td>\n",
       "      <td>-0.000770</td>\n",
       "      <td>-0.145149</td>\n",
       "      <td>-0.906659</td>\n",
       "      <td>-0.797442</td>\n",
       "    </tr>\n",
       "    <tr>\n",
       "      <th>3</th>\n",
       "      <td>1</td>\n",
       "      <td>0.997849</td>\n",
       "      <td>1.462445</td>\n",
       "      <td>1.981337</td>\n",
       "      <td>1.355650</td>\n",
       "      <td>-1.922469</td>\n",
       "      <td>-1.294608</td>\n",
       "      <td>-0.906659</td>\n",
       "      <td>-0.797442</td>\n",
       "    </tr>\n",
       "    <tr>\n",
       "      <th>4</th>\n",
       "      <td>1</td>\n",
       "      <td>-1.257153</td>\n",
       "      <td>-0.373407</td>\n",
       "      <td>0.361409</td>\n",
       "      <td>-0.787510</td>\n",
       "      <td>-0.577280</td>\n",
       "      <td>-0.489987</td>\n",
       "      <td>-0.385284</td>\n",
       "      <td>0.072974</td>\n",
       "    </tr>\n",
       "  </tbody>\n",
       "</table>\n",
       "</div>"
      ],
      "text/plain": [
       "   Round  team1_32  team1_16   team1_8   team1_4  team2_32  team2_16  \\\n",
       "0      1 -0.355152 -0.723093 -0.070572 -0.787510 -1.922469 -1.294608   \n",
       "1      1  0.417991  1.275113  0.916813 -0.787510 -1.922469 -1.294608   \n",
       "2      1  0.647071  0.442527 -0.358559  0.165006 -0.000770 -0.145149   \n",
       "3      1  0.997849  1.462445  1.981337  1.355650 -1.922469 -1.294608   \n",
       "4      1 -1.257153 -0.373407  0.361409 -0.787510 -0.577280 -0.489987   \n",
       "\n",
       "    team2_8   team2_4  \n",
       "0 -0.906659 -0.797442  \n",
       "1 -0.906659 -0.797442  \n",
       "2 -0.906659 -0.797442  \n",
       "3 -0.906659 -0.797442  \n",
       "4 -0.385284  0.072974  "
      ]
     },
     "execution_count": 9,
     "metadata": {},
     "output_type": "execute_result"
    }
   ],
   "source": [
    "df_new = pd.read_csv(\"mean_imp_new.csv\", index_col = 0)\n",
    "\n",
    "df_new.iloc[:,1] = z_norm(df_new.iloc[:,1])\n",
    "df_new.iloc[:,2] = z_norm(df_new.iloc[:,2])\n",
    "df_new.iloc[:,3] = z_norm(df_new.iloc[:,3])\n",
    "df_new.iloc[:,4] = z_norm(df_new.iloc[:,4])\n",
    "df_new.iloc[:,5] = z_norm(df_new.iloc[:,5])\n",
    "df_new.iloc[:,6] = z_norm(df_new.iloc[:,6])\n",
    "df_new.iloc[:,7] = z_norm(df_new.iloc[:,7])\n",
    "df_new.iloc[:,8] = z_norm(df_new.iloc[:,8])\n",
    "\n",
    "df_new.head()"
   ]
  },
  {
   "cell_type": "code",
   "execution_count": 10,
   "metadata": {
    "collapsed": true
   },
   "outputs": [],
   "source": [
    "df_a = df_inc.iloc[:,:85] # Normal \n",
    "df_b = df_inc.iloc[:,-3:-1] # Distance Travelled\n",
    "df_c1 = pd.read_csv(\"new_vars.csv\", index_col = 0) # Elo ratings and Elevation Ratings\n",
    "df_c = pd.concat([df_c1, df_new], axis = 1)\n",
    "df_d = pd.read_csv(\"dummies.csv\", index_col = 0) # dummies\n",
    "target = df_inc.iloc[:,-1] # target"
   ]
  },
  {
   "cell_type": "code",
   "execution_count": 11,
   "metadata": {
    "collapsed": true
   },
   "outputs": [],
   "source": [
    "df_b['t1_dist_home'] = z_norm(df_b['t1_dist_home'])\n",
    "df_b['t2_dist_home'] = z_norm(df_b['t2_dist_home'])"
   ]
  },
  {
   "cell_type": "code",
   "execution_count": 12,
   "metadata": {},
   "outputs": [
    {
     "data": {
      "text/plain": [
       "1021"
      ]
     },
     "execution_count": 12,
     "metadata": {},
     "output_type": "execute_result"
    }
   ],
   "source": [
    "len(df_a.columns) + len(df_b.columns) + len(df_c.columns) + len(df_d.columns)"
   ]
  },
  {
   "cell_type": "code",
   "execution_count": 13,
   "metadata": {
    "collapsed": true
   },
   "outputs": [],
   "source": [
    "df_ab = pd.concat([df_a, df_b], axis=1)\n",
    "df_abc = pd.concat([df_ab, df_c], axis=1)\n",
    "df_X = pd.concat([df_abc, df_d], axis=1)\n",
    "df = pd.concat([df_X, target], axis=1)"
   ]
  },
  {
   "cell_type": "code",
   "execution_count": 14,
   "metadata": {},
   "outputs": [
    {
     "data": {
      "text/plain": [
       "1022"
      ]
     },
     "execution_count": 14,
     "metadata": {},
     "output_type": "execute_result"
    }
   ],
   "source": [
    "len(df.columns)"
   ]
  },
  {
   "cell_type": "code",
   "execution_count": 15,
   "metadata": {
    "collapsed": true
   },
   "outputs": [],
   "source": [
    "df.to_csv(\"after_sub.csv\")"
   ]
  },
  {
   "cell_type": "code",
   "execution_count": 28,
   "metadata": {},
   "outputs": [
    {
     "data": {
      "text/html": [
       "<div>\n",
       "<style>\n",
       "    .dataframe thead tr:only-child th {\n",
       "        text-align: right;\n",
       "    }\n",
       "\n",
       "    .dataframe thead th {\n",
       "        text-align: left;\n",
       "    }\n",
       "\n",
       "    .dataframe tbody tr th {\n",
       "        vertical-align: top;\n",
       "    }\n",
       "</style>\n",
       "<table border=\"1\" class=\"dataframe\">\n",
       "  <thead>\n",
       "    <tr style=\"text-align: right;\">\n",
       "      <th></th>\n",
       "      <th>Numot</th>\n",
       "      <th>host_lat</th>\n",
       "      <th>host_long</th>\n",
       "      <th>team1_adjde</th>\n",
       "      <th>team1_adjoe</th>\n",
       "      <th>team1_adjtempo</th>\n",
       "      <th>team1_ap_final</th>\n",
       "      <th>team1_ap_preseason</th>\n",
       "      <th>team1_arate</th>\n",
       "      <th>team1_blockpct</th>\n",
       "      <th>...</th>\n",
       "      <th>team2_elv</th>\n",
       "      <th>Round</th>\n",
       "      <th>team1_32</th>\n",
       "      <th>team1_16</th>\n",
       "      <th>team1_8</th>\n",
       "      <th>team1_4</th>\n",
       "      <th>team2_32</th>\n",
       "      <th>team2_16</th>\n",
       "      <th>team2_8</th>\n",
       "      <th>team2_4</th>\n",
       "    </tr>\n",
       "  </thead>\n",
       "  <tbody>\n",
       "    <tr>\n",
       "      <th>0</th>\n",
       "      <td>-0.237284</td>\n",
       "      <td>-0.507397</td>\n",
       "      <td>1.018489</td>\n",
       "      <td>-0.208378</td>\n",
       "      <td>0.006767</td>\n",
       "      <td>0.805184</td>\n",
       "      <td>0.332626</td>\n",
       "      <td>2.592962</td>\n",
       "      <td>-1.057566</td>\n",
       "      <td>-0.853731</td>\n",
       "      <td>...</td>\n",
       "      <td>3.971837</td>\n",
       "      <td>1</td>\n",
       "      <td>-0.355152</td>\n",
       "      <td>-0.723093</td>\n",
       "      <td>-0.070572</td>\n",
       "      <td>-0.787510</td>\n",
       "      <td>-1.922469</td>\n",
       "      <td>-1.294608</td>\n",
       "      <td>-0.906659</td>\n",
       "      <td>-0.797442</td>\n",
       "    </tr>\n",
       "    <tr>\n",
       "      <th>1</th>\n",
       "      <td>-0.237284</td>\n",
       "      <td>-0.610814</td>\n",
       "      <td>-0.978750</td>\n",
       "      <td>0.479330</td>\n",
       "      <td>1.041179</td>\n",
       "      <td>1.678322</td>\n",
       "      <td>0.199345</td>\n",
       "      <td>-0.684015</td>\n",
       "      <td>0.104384</td>\n",
       "      <td>-1.116711</td>\n",
       "      <td>...</td>\n",
       "      <td>1.562966</td>\n",
       "      <td>1</td>\n",
       "      <td>0.417991</td>\n",
       "      <td>1.275113</td>\n",
       "      <td>0.916813</td>\n",
       "      <td>-0.787510</td>\n",
       "      <td>-1.922469</td>\n",
       "      <td>-1.294608</td>\n",
       "      <td>-0.906659</td>\n",
       "      <td>-0.797442</td>\n",
       "    </tr>\n",
       "    <tr>\n",
       "      <th>2</th>\n",
       "      <td>-0.237284</td>\n",
       "      <td>0.114768</td>\n",
       "      <td>-1.993774</td>\n",
       "      <td>-1.100287</td>\n",
       "      <td>-0.323589</td>\n",
       "      <td>-0.189211</td>\n",
       "      <td>-0.733620</td>\n",
       "      <td>2.319881</td>\n",
       "      <td>0.501630</td>\n",
       "      <td>0.621087</td>\n",
       "      <td>...</td>\n",
       "      <td>1450.022339</td>\n",
       "      <td>1</td>\n",
       "      <td>0.647071</td>\n",
       "      <td>0.442527</td>\n",
       "      <td>-0.358559</td>\n",
       "      <td>0.165006</td>\n",
       "      <td>-0.000770</td>\n",
       "      <td>-0.145149</td>\n",
       "      <td>-0.906659</td>\n",
       "      <td>-0.797442</td>\n",
       "    </tr>\n",
       "    <tr>\n",
       "      <th>3</th>\n",
       "      <td>-0.237284</td>\n",
       "      <td>0.129849</td>\n",
       "      <td>0.142382</td>\n",
       "      <td>-0.961018</td>\n",
       "      <td>0.629138</td>\n",
       "      <td>3.562058</td>\n",
       "      <td>-0.467059</td>\n",
       "      <td>0.271770</td>\n",
       "      <td>1.057752</td>\n",
       "      <td>0.533923</td>\n",
       "      <td>...</td>\n",
       "      <td>211.961777</td>\n",
       "      <td>1</td>\n",
       "      <td>0.997849</td>\n",
       "      <td>1.462445</td>\n",
       "      <td>1.981337</td>\n",
       "      <td>1.355650</td>\n",
       "      <td>-1.922469</td>\n",
       "      <td>-1.294608</td>\n",
       "      <td>-0.906659</td>\n",
       "      <td>-0.797442</td>\n",
       "    </tr>\n",
       "    <tr>\n",
       "      <th>4</th>\n",
       "      <td>-0.237284</td>\n",
       "      <td>-0.507397</td>\n",
       "      <td>1.018489</td>\n",
       "      <td>0.315771</td>\n",
       "      <td>0.388279</td>\n",
       "      <td>-0.311216</td>\n",
       "      <td>-0.733620</td>\n",
       "      <td>-0.684015</td>\n",
       "      <td>-1.465233</td>\n",
       "      <td>-1.700550</td>\n",
       "      <td>...</td>\n",
       "      <td>276.419739</td>\n",
       "      <td>1</td>\n",
       "      <td>-1.257153</td>\n",
       "      <td>-0.373407</td>\n",
       "      <td>0.361409</td>\n",
       "      <td>-0.787510</td>\n",
       "      <td>-0.577280</td>\n",
       "      <td>-0.489987</td>\n",
       "      <td>-0.385284</td>\n",
       "      <td>0.072974</td>\n",
       "    </tr>\n",
       "  </tbody>\n",
       "</table>\n",
       "<p>5 rows × 103 columns</p>\n",
       "</div>"
      ],
      "text/plain": [
       "      Numot  host_lat  host_long  team1_adjde  team1_adjoe  team1_adjtempo  \\\n",
       "0 -0.237284 -0.507397   1.018489    -0.208378     0.006767        0.805184   \n",
       "1 -0.237284 -0.610814  -0.978750     0.479330     1.041179        1.678322   \n",
       "2 -0.237284  0.114768  -1.993774    -1.100287    -0.323589       -0.189211   \n",
       "3 -0.237284  0.129849   0.142382    -0.961018     0.629138        3.562058   \n",
       "4 -0.237284 -0.507397   1.018489     0.315771     0.388279       -0.311216   \n",
       "\n",
       "   team1_ap_final  team1_ap_preseason  team1_arate  team1_blockpct    ...     \\\n",
       "0        0.332626            2.592962    -1.057566       -0.853731    ...      \n",
       "1        0.199345           -0.684015     0.104384       -1.116711    ...      \n",
       "2       -0.733620            2.319881     0.501630        0.621087    ...      \n",
       "3       -0.467059            0.271770     1.057752        0.533923    ...      \n",
       "4       -0.733620           -0.684015    -1.465233       -1.700550    ...      \n",
       "\n",
       "     team2_elv  Round  team1_32  team1_16   team1_8   team1_4  team2_32  \\\n",
       "0     3.971837      1 -0.355152 -0.723093 -0.070572 -0.787510 -1.922469   \n",
       "1     1.562966      1  0.417991  1.275113  0.916813 -0.787510 -1.922469   \n",
       "2  1450.022339      1  0.647071  0.442527 -0.358559  0.165006 -0.000770   \n",
       "3   211.961777      1  0.997849  1.462445  1.981337  1.355650 -1.922469   \n",
       "4   276.419739      1 -1.257153 -0.373407  0.361409 -0.787510 -0.577280   \n",
       "\n",
       "   team2_16   team2_8   team2_4  \n",
       "0 -1.294608 -0.906659 -0.797442  \n",
       "1 -1.294608 -0.906659 -0.797442  \n",
       "2 -0.145149 -0.906659 -0.797442  \n",
       "3 -1.294608 -0.906659 -0.797442  \n",
       "4 -0.489987 -0.385284  0.072974  \n",
       "\n",
       "[5 rows x 103 columns]"
      ]
     },
     "execution_count": 28,
     "metadata": {},
     "output_type": "execute_result"
    }
   ],
   "source": [
    "df.iloc[:,:103].head()"
   ]
  },
  {
   "cell_type": "markdown",
   "metadata": {},
   "source": [
    "# numot shouldn't be normalized"
   ]
  }
 ],
 "metadata": {
  "kernelspec": {
   "display_name": "Python 3",
   "language": "python",
   "name": "python3"
  },
  "language_info": {
   "codemirror_mode": {
    "name": "ipython",
    "version": 3
   },
   "file_extension": ".py",
   "mimetype": "text/x-python",
   "name": "python",
   "nbconvert_exporter": "python",
   "pygments_lexer": "ipython3",
   "version": "3.6.1"
  }
 },
 "nbformat": 4,
 "nbformat_minor": 2
}
